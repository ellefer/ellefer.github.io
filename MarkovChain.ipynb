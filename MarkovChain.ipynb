{
 "cells": [
  {
   "cell_type": "code",
   "execution_count": 1,
   "id": "408879f4",
   "metadata": {},
   "outputs": [],
   "source": [
    "import numpy as np"
   ]
  },
  {
   "cell_type": "markdown",
   "id": "2280f0c9",
   "metadata": {},
   "source": [
    "A $\\textit{Markov chain}$, is a process in which there are the same finite number of states or outcomes that can be occupied at any given time. The states do not overlap and cover all possible outcomes. In a Markov process, the system may move from one state to another,one for each time step, and there is a probability associated with this transition for each possible outcome. The sum of the probabilities for transitioning from the present state to the next stateis equal to 1 for each state at each time step. These Markov Chains lead to linear systems; you might find more depth about theoretically finding the equilibrium states in a Linear Algebra class. Equilibrium states help us determine how the states are occupied at long term. Because we don't necessarily know linear algebra, we will make a computer compute this for us after setting up the system. \n",
    "\n",
    "Below is a figure of a two-state Markov Chain. \n",
    "\n",
    "\n",
    "\n",
    "\n",
    "\n",
    "\n",
    "\n"
   ]
  },
  {
   "cell_type": "markdown",
   "id": "15479d60",
   "metadata": {},
   "source": [
    "In a more complicated example, we are modeling internet traffic on Earlham's website. We are going to consider the home page, the /admissions page, the /academics page, and /academics/majors page. We assume from one time step to the next: \n",
    "\n",
    "$\\cdot$ 50\\% of traffic on the home page stays on the home page, 25\\% goes to /admissions, and 25\\% goes to /academics\n",
    "\n",
    "$\\cdot$ 50\\% of traffic on the /admissions page stays on the /admissions page, and 50\\% returns back to the home page\n",
    "\n",
    "$\\cdot$ 50\\% of the traffic on the /academics page stays on the /academics page. The other 50\\% is divided equally amongst the three other pages\n",
    "\n",
    "$\\cdot$ 50\\% of the traffic on the /academics/majors pages stays on the /academics/majors page, and the other 50\\% returns to the /academics page. \n",
    "\n",
    "This leads to the following sketch of the Markov Chain with 4 states:"
   ]
  },
  {
   "cell_type": "markdown",
   "id": "d2f8f7ff",
   "metadata": {},
   "source": [
    "and the following system of difference equations (consider the arrows that are coming into each state): \n",
    "\n",
    "$$H_{n+1} = .5H_n + .5A_n + \\frac{.5}{3}C_n$$\n",
    "$$A_{n+1} = .25H_n + .5A_n+ \\frac{.5}{3}C_n $$\n",
    "$$C_{n+1} = .25H_n + .5C_n + .5M_n $$\n",
    "$$M_{n+1} = \\frac{.5}{3}C_n + .5M_n $$\n",
    "\n",
    "with initial value $H_0, A_0, C_0, M_0$. If you have some experience with Linear Algebra, we can write this as: \n",
    "\n",
    "$$\\left[ \\begin{array}{c} H_{n+1} \\\\ A_{n+1} \\\\ C_{n+1} \\\\ M_{n+1} \\end{array} \\right] = \\begin{bmatrix} .5 & .5 & .5/3 & 0 \\\\ .25 & .5 & .5/3 & 0\\\\ .25 & 0 & .5 & .5 \\\\ 0 & 0 & .5/3 & .5 \\end{bmatrix} \\times \\left[ \\begin{array}{c} H_n  \\\\ A_n \\\\ C_n \\\\ M_n \\end{array} \\right], \\hspace{.1cm} \\left[ \\begin{array}{c} H_0  \\\\ A_0 \\\\ C_0 \\\\ M_0 \\end{array} \\right]$$\n",
    "\n",
    "This is how we input it into sage in order to find $H_n, A_n, C_n, M_n$ for any $n$. If we iterate for large $n$, we can see if we reach equilibrium. Change the initial conditions and number of steps. Does it reach equilibrium? Does it reach the same equilibrium despite the initial conditions?"
   ]
  },
  {
   "cell_type": "code",
   "execution_count": 6,
   "id": "1d64b8ec",
   "metadata": {},
   "outputs": [
    {
     "name": "stdout",
     "output_type": "stream",
     "text": [
      " After 100 steps, the proportion of traffice on the home page is 0.36363636363636354 \n",
      "The proportion of traffic on the /admission page is 0.27272727272727265 \n",
      "The proportion of the traffic on the /academics page is 0.2727272727272726 \n",
      "The proportion of the traffic on the /academics/majors page is 0.09090909090909086\n"
     ]
    }
   ],
   "source": [
    "numtimes = 100; # number of times you want to transition from one state to the next\n",
    "\n",
    "IC = [1,0,0,0] #initial condition, order: (E,AD,AC,M), (100% of people start at E)\n",
    "\n",
    "A = ([.5,.5,.5/3,0], # row for E_(n+1) (order of coefficients: (E,AD,AC,M))\n",
    "     [.25,.5,.5/3,0], # row for AD_(n+1) (order of coefficients: (E,AD,AC,M))\n",
    "     [.25,0,.5,.5], # row for AC_(n+1) (order of coefficients: (E,AD,AC,M))\n",
    "      [0,0,.5/3,.5]) # row for M_(n+1) (order of coefficients: (E,AD,AC,M))\n",
    "\n",
    "for j in range(numtimes): ##step forward numtimes timesteps\n",
    "    res = [0,0,0,0]\n",
    "    for i in range(len(A)):\n",
    "        for k in range(len(res)):\n",
    "            res[i] += A[i][k] * IC[k]\n",
    "            \n",
    "    IC= res\n",
    "\n",
    "# print resulted matrix\n",
    "print(\" After\", numtimes, \"steps, the proportion of traffice on the home page is\", IC[0], \n",
    "      \"\\nThe proportion of traffic on the /admission page is\", IC[1], \n",
    "     \"\\nThe proportion of the traffic on the /academics page is\", IC[2],\n",
    "     \"\\nThe proportion of the traffic on the /academics/majors page is\", IC[3]) \n"
   ]
  },
  {
   "cell_type": "markdown",
   "id": "946a7bc5",
   "metadata": {},
   "source": [
    "What's next is an example of a Markov Chain to determine the probability of winning when you are tied 23-23 in a volleyball game and you are serving (you have to get to 25 points and win by 2). When you are serving, the probability of winning the point is .4275. When you are not serving, the probability of winning the point is .5725. You can iterate over $n$ timesteps for $n$ large in order to determine the overall probability of winning in that scenario."
   ]
  },
  {
   "cell_type": "code",
   "execution_count": 11,
   "id": "84b1ebe4",
   "metadata": {},
   "outputs": [
    {
     "name": "stdout",
     "output_type": "stream",
     "text": [
      "probabilty of a win after 100 iterations is 0.46620046620007927 \n",
      "and probability of loss is 0.5337995337991469\n"
     ]
    }
   ],
   "source": [
    "\n",
    " \n",
    "numtimes = 100; # number of times you want to iterate through\n",
    "#                (i.e. up to 100 times back and forth. The probability stabilizes by then)\n",
    "\n",
    "A = ([0,0,0,0,.4275,.5725,0,0],\n",
    "     [0,0,.5725,.4275,0,0,0,0],\n",
    "     [.4275,.5725,0,0,0,0,0,0],\n",
    "    [0,0,0,0,0,0,0,0],\n",
    "    [0,0,0,0,0,0,0,0],\n",
    "    [.5725,.4275,0,0,0,0,0,0],\n",
    "    [0,0,.4275,.5725,0,0,1,0],\n",
    "    [0,0,0,0,.5725,.4275,0,1])\n",
    "b = [1,0,0,0,0,0,0,0] #initial condition. (i.e. start at 23-23 and you're serving)\n",
    "# what the order of entries in b mean: \n",
    "#tied and serve\n",
    "#tied and no serve\n",
    "#1 up and  serve\n",
    "# can't happen\n",
    "# can't happen\n",
    "# 1 down and no serve\n",
    "# win\n",
    "# lose \n",
    "\n",
    "for j in range(numtimes):\n",
    "    res = [0,0,0,0,0,0,0,0]\n",
    "    for i in range(len(A)):\n",
    "        for k in range(len(res)):\n",
    "            res[i] += A[i][k] * b[k]\n",
    "    b = res\n",
    "\n",
    "# probability of win is second to last, probability of lose is last\n",
    "print('probabilty of a win after', numtimes, 'iterations is', res[-2], '\\nand probability of loss is', res[-1])"
   ]
  },
  {
   "cell_type": "code",
   "execution_count": null,
   "id": "67b60930",
   "metadata": {},
   "outputs": [],
   "source": []
  },
  {
   "cell_type": "code",
   "execution_count": null,
   "id": "a7d9c4a7",
   "metadata": {},
   "outputs": [],
   "source": []
  },
  {
   "cell_type": "code",
   "execution_count": null,
   "id": "abbc3503",
   "metadata": {},
   "outputs": [],
   "source": []
  },
  {
   "cell_type": "code",
   "execution_count": null,
   "id": "486ced2d",
   "metadata": {},
   "outputs": [],
   "source": []
  }
 ],
 "metadata": {
  "kernelspec": {
   "display_name": "Python 3.9",
   "language": "python",
   "name": "py39"
  },
  "language_info": {
   "codemirror_mode": {
    "name": "ipython",
    "version": 3
   },
   "file_extension": ".py",
   "mimetype": "text/x-python",
   "name": "python",
   "nbconvert_exporter": "python",
   "pygments_lexer": "ipython3",
   "version": "3.9.1"
  }
 },
 "nbformat": 4,
 "nbformat_minor": 5
}
